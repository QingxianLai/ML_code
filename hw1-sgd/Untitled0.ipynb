{
 "metadata": {
  "name": "",
  "signature": "sha256:135c95607d43a38bf537f25c2512c21adbd41904d2ee4c0d9062f33c3c102bc6"
 },
 "nbformat": 3,
 "nbformat_minor": 0,
 "worksheets": [
  {
   "cells": [
    {
     "cell_type": "code",
     "collapsed": false,
     "input": [
      "import numpy as np\n",
      "import pandas as pd\n",
      "from sklearn.cross_validation import train_test_split\n",
      "import matplotlib.pyplot as plt\n",
      "%matplotlib inline"
     ],
     "language": "python",
     "metadata": {},
     "outputs": [],
     "prompt_number": 2
    },
    {
     "cell_type": "code",
     "collapsed": false,
     "input": [
      "def feature_normalization(train, test):\n",
      "    \"\"\"Rescale the data so that each feature in the training set is in\n",
      "    the interval [0,1], and apply the same transformations to the test\n",
      "    set, using the statistics computed on the training set.\n",
      "    \n",
      "    Args:\n",
      "        train - training set, a 2D numpy array of size (num_instances, num_features)\n",
      "        test  - test set, a 2D numpy array of size (num_instances, num_features)\n",
      "    Returns:\n",
      "        train_normalized - training set after normalization\n",
      "        test_normalized  - test set after normalization\n",
      "\n",
      "    \"\"\"\n",
      "    lmax = train.max(axis=0)\n",
      "    lmin = train.min(axis=0)\n",
      "    lrange = lmax - lmin\n",
      "\n",
      "#     l = [lrange == 0.,lrange != 0]\n",
      "#     choice = [1,lrange]\n",
      "#     lrange = np.select(l,choice)\n",
      "\n",
      "    train_normalized = (train-lmin)/lrange     # use broadcasting here\n",
      "    test_normalized = (test-lmin)/lrange\n",
      "    return train_normalized, test_normalized"
     ],
     "language": "python",
     "metadata": {},
     "outputs": [],
     "prompt_number": 3
    },
    {
     "cell_type": "code",
     "collapsed": false,
     "input": [
      "def compute_square_loss(X, y, theta):\n",
      "    \"\"\"\n",
      "    Given a set of X, y, theta, compute the square loss for predicting y with X*theta\n",
      "    \n",
      "    Args:\n",
      "        X - the feature vector, 2D numpy array of size (num_instances, num_features)\n",
      "        y - the label vector, 1D numpy array of size (num_instances)\n",
      "        theta - the parameter vector, 1D array of size (num_features)\n",
      "    \n",
      "    Returns:\n",
      "        loss - the square loss, scalar\n",
      "    \"\"\"\n",
      "    loss = 0       #initialize the square_loss\n",
      "    m = X.shape[0]\n",
      "    theta = theta.reshape(theta.shape[0], 1)\n",
      "\n",
      "    temp = X.dot(theta)-y.reshape(m, 1)\n",
      "    loss = (temp.T.dot(temp))/float(2*m)\n",
      "    return loss"
     ],
     "language": "python",
     "metadata": {},
     "outputs": [],
     "prompt_number": 4
    },
    {
     "cell_type": "code",
     "collapsed": false,
     "input": [
      "def compute_square_loss_gradient(X, y, theta):\n",
      "    \"\"\"\n",
      "    Compute gradient of the square loss (as defined in compute_square_loss), at the point theta.\n",
      "    \n",
      "    Args:\n",
      "        X - the feature vector, 2D numpy array of size (num_instances, num_features)\n",
      "        y - the label vector, 1D numpy array of size (num_instances)\n",
      "        theta - the parameter vector, 1D numpy array of size (num_features)\n",
      "    \n",
      "    Returns:\n",
      "        grad - gradient vector, 1D numpy array of size (num_features)  1 X 51\n",
      "    \"\"\"\n",
      "    m = X.shape[0]\n",
      "    theta = theta.reshape(theta.shape[0],1)\n",
      "    grad = ((X.dot(theta)-y.reshape(m, 1)).T.dot(X))/float(m)\n",
      "    return grad\n"
     ],
     "language": "python",
     "metadata": {},
     "outputs": [],
     "prompt_number": 5
    },
    {
     "cell_type": "code",
     "collapsed": false,
     "input": [
      "def grad_checker(X, y, theta, epsilon=0.01, tolerance=0.1): \n",
      "    \"\"\"Implement Gradient Checker\n",
      "    Check that the function compute_square_loss_gradient returns the\n",
      "    correct gradient for the given X, y, and theta.\n",
      "\n",
      "    Let d be the number of features. Here we numerically estimate the\n",
      "    gradient by approximating the directional derivative in each of\n",
      "    the d coordinate directions: \n",
      "    (e_1 = (1,0,0,...,0), e_2 = (0,1,0,...,0), ..., e_d = (0,...,0,1) \n",
      "\n",
      "    The approximation for the directional derivative of J at the point\n",
      "    theta in the direction e_i is given by: \n",
      "    ( J(theta + epsilon * e_i) - J(theta - epsilon * e_i) ) / (2*epsilon).\n",
      "\n",
      "    We then look at the Euclidean distance between the gradient\n",
      "    computed using this approximation and the gradient computed by\n",
      "    compute_square_loss_gradient(X, y, theta).  If the Euclidean\n",
      "    distance exceeds tolerance, we say the gradient is incorrect.\n",
      "\n",
      "    Args:\n",
      "        X - the feature vector, 2D numpy array of size (num_instances, num_features)\n",
      "        y - the label vector, 1D numpy array of size (num_instances)\n",
      "        theta - the parameter vector, 1D numpy array of size (num_features)\n",
      "        epsilon - the epsilon used in approximation\n",
      "        tolerance - the tolerance error\n",
      "    \n",
      "    Return:\n",
      "        A boolean value indicate whether the gradient is correct or not\n",
      "\n",
      "    \"\"\"\n",
      "    true_gradient = compute_square_loss_gradient(X, y, theta) #the true gradient  1x51\n",
      "    num_features = theta.shape[0]\n",
      "    e = np.identity(num_features)\n",
      "    approx_grad = np.zeros(num_features) #Initialize the gradient we approximate\n",
      "    for i in range(num_features):\n",
      "        test_theta_plus = theta+e[i]*epsilon\n",
      "        test_theta_minus = theta-e[i]*epsilon\n",
      "        approx_grad[i] = (compute_square_loss(X, y, test_theta_plus)-compute_square_loss(X, y, test_theta_minus))/(2*epsilon)\n",
      "    approx_grad = np.array(approx_grad).reshape(true_gradient.shape)\n",
      "    E_distance = np.sqrt((approx_grad-true_gradient).dot((approx_grad-true_gradient).T))\n",
      "    return E_distance <= tolerance"
     ],
     "language": "python",
     "metadata": {},
     "outputs": [],
     "prompt_number": 46
    },
    {
     "cell_type": "code",
     "collapsed": false,
     "input": [
      "# TODO: without checking\n",
      "def generic_gradient_checker(X, y, theta, objective_func, gradient_func, tolerance=1e-4):\n",
      "    \"\"\"\n",
      "    The functions takes objective_func and gradient_func as parameters. And check whether gradient_func(X, y, theta) returned\n",
      "    the true gradient for objective_func(X, y, theta).\n",
      "    Eg: In LSR, the objective_func = compute_square_loss, and gradient_func = compute_square_loss_gradient\n",
      "    \"\"\"\n",
      "    epsilon = 0.01\n",
      "    true_gradient = gradient_func(X, y, theta) #the true gradient\n",
      "    num_features = theta.shape[0]\n",
      "\n",
      "\n",
      "    e = np.identity(num_features)\n",
      "    approx_grad = np.zeros(num_features) #Initialize the gradient we approximate\n",
      "\n",
      "    for i in range(num_features):\n",
      "        test_theta_plus = theta+e[i]*epsilon\n",
      "        test_theta_minus = theta-e[i]*epsilon\n",
      "        approx_grad[i] = (objective_func(X, y, test_theta_plus)-objective_func(X, y, test_theta_minus))/(2*epsilon)\n",
      "\n",
      "    E_distance = (np.array(approx_grad)-true_gradient).dot(np.array(approx_grad)-true_gradient)\n",
      "    return E_distance <= tolerance"
     ],
     "language": "python",
     "metadata": {},
     "outputs": [],
     "prompt_number": 8
    },
    {
     "cell_type": "code",
     "collapsed": false,
     "input": [
      "def batch_grad_descent(X, y, alpha=0.1, num_iter=1000, grad_checkerr=False):\n",
      "    \"\"\"\n",
      "    In this question you will implement batch gradient descent to\n",
      "    minimize the square loss objective\n",
      "    \n",
      "    Args:\n",
      "        X - the feature vector, 2D numpy array of size (num_instances, num_features)\n",
      "        y - the label vector, 1D numpy array of size (num_instances)\n",
      "        alpha - step size in gradient descent\n",
      "        num_iter - number of iterations to run \n",
      "        grad_checker - a boolean value indicating whether checking the gradient when updating\n",
      "        \n",
      "    Returns:\n",
      "        theta_hist - store the the history of parameter vector in iteration, 2D numpy array of size (num_iter+1, num_features) \n",
      "                    for instance, theta in iteration 0 should be theta_hist[0], theta in ieration (num_iter) is theta_hist[-1]\n",
      "        loss_hist - the history of objective function vector, 1D numpy array of size (num_iter+1) \n",
      "    \"\"\"\n",
      "    num_instances, num_features = X.shape[0], X.shape[1]\n",
      "    theta_hist = np.zeros((num_iter+1, num_features))   #Initialize theta_hist\n",
      "    loss_hist = np.zeros(num_iter+1)                    #initialize loss_hist\n",
      "    theta = np.zeros(num_features)                       #initialize theta\n",
      "    theta_hist[0] = theta\n",
      "    loss_hist[0] = compute_square_loss(X, y, theta)\n",
      "    for i in range(1,num_iter+1) :\n",
      "        theta_hist[i]=theta_hist[i-1]-alpha*compute_square_loss_gradient(X,y,theta_hist[i-1])\n",
      "        \n",
      "        if grad_checkerr:             \n",
      "            if not grad_checker(X, y, theta_hist[i]):\n",
      "                raise Exception(\"do not pass the gradient test on the iteration %s\" % (i))\n",
      "#              print \"grad check failed at iteration %s\" % (i)\n",
      "        loss_hist[i] = compute_square_loss(X, y, theta_hist[i])\n",
      "    return theta_hist, loss_hist\n",
      "\n"
     ],
     "language": "python",
     "metadata": {},
     "outputs": [],
     "prompt_number": 32
    },
    {
     "cell_type": "code",
     "collapsed": false,
     "input": [
      "import random\n",
      "def batch_alpha_plot():\n",
      "    print('loading the dataset')\n",
      "    df = pd.read_csv('hw1-data.csv', delimiter=',')\n",
      "    X = df.values[:, :-1] \n",
      "    y = df.values[:, -1]\n",
      "\n",
      "    print('Split into Train and Test')\n",
      "    X_train, X_test, y_train, y_test = train_test_split(X, y, test_size=100, random_state=10)\n",
      "\n",
      "    X_train, X_test = feature_normalization(X_train, X_test)\n",
      "    X_train = np.hstack((X_train, np.ones((X_train.shape[0], 1))))     #Add bias term\n",
      "    X_test = np.hstack((X_test, np.ones((X_test.shape[0], 1))))        #Add bias term\n",
      "    \n",
      "    r = lambda: random.randint(0,255)\n",
      "    alpha_list = np.arange(0.01,0.1,0.01)\n",
      "    plt.figure()\n",
      "    for alpha in alpha_list:\n",
      "        theta_hist,loss_hist = batch_grad_descent(X_train,y_train,alpha)\n",
      "        kolor = '#%02X%02X%02X' % (r(),r(),r())\n",
      "        plt.plot(loss_hist,color=kolor,label=str(alpha))\n",
      "    plt.legend()\n",
      "    plt.show()\n",
      "\n",
      "batch_alpha_plot()"
     ],
     "language": "python",
     "metadata": {},
     "outputs": [
      {
       "output_type": "stream",
       "stream": "stdout",
       "text": [
        "loading the dataset\n",
        "Split into Train and Test\n"
       ]
      },
      {
       "metadata": {},
       "output_type": "display_data",
       "png": "[encoded data removed]",
       "text": [
        "<matplotlib.figure.Figure at 0x10d8aba90>"
       ]
      }
     ],
     "prompt_number": 77
    },
    {
     "cell_type": "code",
     "collapsed": false,
     "input": [
      "a,b = batch_grad_descent(X_train,y_train,0.1)\n",
      "b"
     ],
     "language": "python",
     "metadata": {},
     "outputs": [
      {
       "metadata": {},
       "output_type": "pyout",
       "prompt_number": 81,
       "text": [
        "array([ 3.98075917,  3.91325976,  3.85188424, ...,  1.03900245,\n",
        "        1.03892598,  1.03884969])"
       ]
      }
     ],
     "prompt_number": 81
    },
    {
     "cell_type": "code",
     "collapsed": false,
     "input": [
      "print('loading the dataset')\n",
      "df = pd.read_csv('hw1-data.csv', delimiter=',')\n",
      "X = df.values[:, :-1] \n",
      "y = df.values[:, -1]\n",
      "\n",
      "print('Split into Train and Test')\n",
      "X_train, X_test, y_train, y_test = train_test_split(X, y, test_size=100, random_state=10)\n",
      "\n",
      "X_train, X_test = feature_normalization(X_train, X_test)\n",
      "X_train = np.hstack((X_train, np.ones((X_train.shape[0], 1))))     #Add bias term\n",
      "X_test = np.hstack((X_test, np.ones((X_test.shape[0], 1))))        #Add bias term\n",
      "\n",
      "theta = np.ones(X_train.shape[1])\n",
      "theta=theta-0.1*compute_square_loss_gradient(X_train,y_train,theta)\n",
      "theta.shape\n",
      "compute_square_loss(X_train,y_train,theta)\n",
      "# a,b = batch_grad_descent(X_train,y_train)\n",
      "# b"
     ],
     "language": "python",
     "metadata": {},
     "outputs": [
      {
       "output_type": "stream",
       "stream": "stdout",
       "text": [
        "loading the dataset\n",
        "Split into Train and Test\n"
       ]
      },
      {
       "metadata": {},
       "output_type": "pyout",
       "prompt_number": 89,
       "text": [
        "(1, 49)"
       ]
      }
     ],
     "prompt_number": 89
    },
    {
     "cell_type": "code",
     "collapsed": false,
     "input": [
      "theta = np.ones(X_train.shape[1])\n",
      "theta.shape"
     ],
     "language": "python",
     "metadata": {},
     "outputs": [
      {
       "metadata": {},
       "output_type": "pyout",
       "prompt_number": 86,
       "text": [
        "(49,)"
       ]
      }
     ],
     "prompt_number": 86
    },
    {
     "cell_type": "code",
     "collapsed": false,
     "input": [
      "def batch_grad_descent_backtracking_line(X, y, alpha_init, num_iter=1000, grad_checkerr=False):\n",
      "    \"\"\"\n",
      "    implement Backtracking-Armijo line search to improve the batch gradient desent\n",
      "\n",
      "    Args:\n",
      "        X - the feature vector, 2D numpy array of size (num_instances, num_features)\n",
      "        y - the label vector, 1D numpy array of size (num_instances)\n",
      "        num_iter - number of iterations to run\n",
      "        grad_checkerr - a boolean value indicating whether checking the gradient when updating\n",
      "\n",
      "    Returns:\n",
      "        theta_hist - store the the history of parameter vector in iteration, 2D numpy array of size (num_iter+1, num_features)\n",
      "                    for instance, theta in iteration 0 should be theta_hist[0], theta in ieration (num_iter) is theta_hist[-1]\n",
      "        loss_hist - the history of objective function vector, 1D numpy array of size (num_iter+1)\n",
      "    \"\"\"\n",
      "    num_instances, num_features = X.shape[0], X.shape[1]\n",
      "    theta_hist = np.zeros((num_iter+1, num_features))   #Initialize theta_hist\n",
      "    loss_hist = np.zeros(num_iter+1)                    #initialize loss_hist\n",
      "    theta = np.zeros(num_features)                       #initialize theta\n",
      "    theta_hist[0] = theta\n",
      "    loss_hist[0] = compute_square_loss(X, y, theta)\n",
      "    beta = 1e-4\n",
      "    c = 0.5\n",
      "    for i in range(1, num_iter+1):\n",
      "        alpha = alpha_init\n",
      "        last_loss = compute_square_loss(X,y,theta_hist[i-1])\n",
      "        last_direction = compute_square_loss_gradient(X,y,theta_hist[i-1])\n",
      "        theta_hist[i] = theta_hist[i-1]-alpha*last_direction\n",
      "\n",
      "        while compute_square_loss(X,y,theta_hist[i]) > last_loss - alpha*beta*last_direction.dot(last_direction.T):\n",
      "            alpha = alpha * c\n",
      "            theta_hist[i] = theta_hist[i-1]-alpha*compute_square_loss_gradient(X,y,theta_hist[i-1])\n",
      "        if grad_checkerr:             \n",
      "            if not grad_checker(X, y, theta_hist[i]):\n",
      "                raise Exception(\"do not pass the gradient test on the iteration %s\" % (i))\n",
      "#              print \"grad check failed at iteration %s\" % (i)\n",
      "\n",
      "        loss_hist[i] = compute_square_loss(X, y, theta_hist[i])\n",
      "\n",
      "    return theta_hist, loss_hist"
     ],
     "language": "python",
     "metadata": {},
     "outputs": [],
     "prompt_number": 90
    },
    {
     "cell_type": "heading",
     "level": 2,
     "metadata": {},
     "source": [
      "Ridge Regression"
     ]
    },
    {
     "cell_type": "code",
     "collapsed": false,
     "input": [
      "def compute_regularized_square_loss_gradient(X, y, theta, lambda_reg):\n",
      "    \"\"\"\n",
      "    Compute the gradient of L2-regularized square loss function given X, y and theta\n",
      "    \n",
      "    Args:\n",
      "        X - the feature vector, 2D numpy array of size (num_instances, num_features)\n",
      "        y - the label vector, 1D numpy array of size (num_instances)\n",
      "        theta - the parameter vector, 1D numpy array of size (num_features)\n",
      "        lambda_reg - the regularization coefficient\n",
      "    \n",
      "    Returns:\n",
      "        grad - gradient vector, 1D numpy array of size (num_features)\n",
      "    \"\"\"\n",
      "    m = X.shape[0]   # num_instances\n",
      "    y = y.reshape((m, 1))\n",
      "    theta = theta.reshape(theta.shape[0], 1)\n",
      "\n",
      "    grad = (1/float(m))*(X.dot(theta)-y).T.dot(X)+2*lambda_reg*theta.T\n",
      "    return grad"
     ],
     "language": "python",
     "metadata": {},
     "outputs": [],
     "prompt_number": 20
    },
    {
     "cell_type": "code",
     "collapsed": false,
     "input": [
      "def compute_regularized_square_loss(X,y,theta,lambda_reg):\n",
      "    \"\"\"\n",
      "    Compute the loss of L2-regularized square loss function given X, y and theta\n",
      "\n",
      "    Args:\n",
      "        X - the feature vector, 2D numpy array of size (num_instances, num_features)\n",
      "        y - the label vector, 1D numpy array of size (num_instances)\n",
      "        theta - the parameter vector, 1D numpy array of size (num_features)\n",
      "        lambda_reg - the regularization coefficient\n",
      "\n",
      "    Returns:\n",
      "        loss - the square loss, scalar\n",
      "    \"\"\"\n",
      "    m = X.shape[0]\n",
      "    theta = theta.reshape(theta.shape[0], 1)\n",
      "    y = y.reshape(m,1)\n",
      "    temp = X.dot(theta)-y\n",
      "    loss = (temp.T.dot(temp))/float(2*m)+lambda_reg*theta.T.dot(theta)\n",
      "    return loss"
     ],
     "language": "python",
     "metadata": {},
     "outputs": [],
     "prompt_number": 15
    },
    {
     "cell_type": "code",
     "collapsed": false,
     "input": [
      "def regularized_grad_descent(X, y, alpha=0.1, lambda_reg=1, num_iter=1000):\n",
      "    \"\"\"\n",
      "    Args:\n",
      "        X - the feature vector, 2D numpy array of size (num_instances, num_features)\n",
      "        y - the label vector, 1D numpy array of size (num_instances)\n",
      "        alpha - step size in gradient descent\n",
      "        lambda_reg - the regularization coefficient\n",
      "        numIter - number of iterations to run \n",
      "        \n",
      "    Returns:\n",
      "        theta_hist - the history of parameter vector, 2D numpy array of size (num_iter+1, num_features) \n",
      "        loss_hist - the history of regularized loss value, 1D numpy array\n",
      "        i - the position of the result in the hist_arrays\n",
      "    \"\"\"\n",
      "\n",
      "    num_instances, num_features = X.shape[0], X.shape[1]\n",
      "    theta_hist = np.zeros((num_iter+1, num_features))   #Initialize theta_hist\n",
      "    loss_hist = np.zeros(num_iter+1)                    #initialize loss_hist\n",
      "    theta = np.ones(num_features)                       #initialize theta\n",
      "    theta_hist[0] = theta\n",
      "    loss_hist[0] = compute_regularized_square_loss(X, y, theta,lambda_reg)\n",
      "    for i in range(1,num_iter+1) :\n",
      "        theta_hist[i]=theta_hist[i-1]-alpha*compute_regularized_square_loss_gradient(X,y,theta_hist[i-1],lambda_reg)\n",
      "#         grad_checkerr = grad_checker(X, y, theta_hist[i])\n",
      "#         if grad_checkerr == False:\n",
      "#             # raise Exception(\"do not pass the gradient test on the iteration %s\" % (i))\n",
      "#             print \"grad check failed at iteration %s\" % (i)\n",
      "        loss_hist[i] = compute_square_loss(X, y, theta_hist[i])\n",
      "        # if i%100 == 0 :\n",
      "        #     print i\n",
      "        #     print loss_hist[i]\n",
      "        #     print theta_hist[i]\n",
      "        if np.abs(loss_hist[i]-loss_hist[i-1])<0.0001:\n",
      "            break\n",
      "\n",
      "    return theta_hist, loss_hist,i"
     ],
     "language": "python",
     "metadata": {},
     "outputs": [],
     "prompt_number": 50
    },
    {
     "cell_type": "code",
     "collapsed": false,
     "input": [
      "a,b,c = regularized_grad_descent(X_train,y_train,alpha=0.1,lambda_reg= 1)\n",
      "b"
     ],
     "language": "python",
     "metadata": {},
     "outputs": [
      {
       "metadata": {},
       "output_type": "pyout",
       "prompt_number": 69,
       "text": [
        "array([  4.90434261e+002,   6.12609449e+002,   8.48066033e+002, ...,\n",
        "         1.79608926e+145,   2.49589881e+145,   3.46837487e+145])"
       ]
      }
     ],
     "prompt_number": 69
    },
    {
     "cell_type": "code",
     "collapsed": false,
     "input": [
      "print('loading the dataset')\n",
      "    \n",
      "df = pd.read_csv('hw1-data.csv', delimiter=',')\n",
      "X = df.values[:, :-1] \n",
      "y = df.values[:, -1]\n",
      "\n",
      "print('Split into Train and Test')\n",
      "X_train, X_test, y_train, y_test = train_test_split(X, y, test_size=100, random_state=10)\n",
      "\n",
      "X_train, X_test = feature_normalization(X_train, X_test)\n",
      "X_train = np.hstack((X_train, np.ones((X_train.shape[0], 1))))     #Add bias term\n",
      "X_test = np.hstack((X_test, np.ones((X_test.shape[0], 1))))        #Add bias term"
     ],
     "language": "python",
     "metadata": {},
     "outputs": [
      {
       "output_type": "stream",
       "stream": "stdout",
       "text": [
        "loading the dataset\n",
        "Split into Train and Test\n"
       ]
      }
     ],
     "prompt_number": 12
    },
    {
     "cell_type": "code",
     "collapsed": false,
     "input": [],
     "language": "python",
     "metadata": {},
     "outputs": [
      {
       "ename": "Exception",
       "evalue": "do not pass the gradient test on the iteration 52",
       "output_type": "pyerr",
       "traceback": [
        "\u001b[0;31m---------------------------------------------------------------------------\u001b[0m\n\u001b[0;31mException\u001b[0m                                 Traceback (most recent call last)",
        "\u001b[0;32m<ipython-input-49-60eb4dc9c579>\u001b[0m in \u001b[0;36m<module>\u001b[0;34m()\u001b[0m\n\u001b[0;32m----> 1\u001b[0;31m \u001b[0mbatch_grad_descent\u001b[0m\u001b[0;34m(\u001b[0m\u001b[0mX_train\u001b[0m\u001b[0;34m,\u001b[0m\u001b[0my_train\u001b[0m\u001b[0;34m,\u001b[0m\u001b[0;36m0.12\u001b[0m\u001b[0;34m,\u001b[0m\u001b[0mnum_iter\u001b[0m\u001b[0;34m=\u001b[0m\u001b[0;36m1000\u001b[0m\u001b[0;34m,\u001b[0m \u001b[0mgrad_checkerr\u001b[0m\u001b[0;34m=\u001b[0m\u001b[0mTrue\u001b[0m\u001b[0;34m)\u001b[0m\u001b[0;34m\u001b[0m\u001b[0m\n\u001b[0m",
        "\u001b[0;32m<ipython-input-32-4be5b90e0b06>\u001b[0m in \u001b[0;36mbatch_grad_descent\u001b[0;34m(X, y, alpha, num_iter, grad_checkerr)\u001b[0m\n\u001b[1;32m     27\u001b[0m         \u001b[0;32mif\u001b[0m \u001b[0mgrad_checkerr\u001b[0m\u001b[0;34m:\u001b[0m\u001b[0;34m\u001b[0m\u001b[0m\n\u001b[1;32m     28\u001b[0m             \u001b[0;32mif\u001b[0m \u001b[0;32mnot\u001b[0m \u001b[0mgrad_checker\u001b[0m\u001b[0;34m(\u001b[0m\u001b[0mX\u001b[0m\u001b[0;34m,\u001b[0m \u001b[0my\u001b[0m\u001b[0;34m,\u001b[0m \u001b[0mtheta_hist\u001b[0m\u001b[0;34m[\u001b[0m\u001b[0mi\u001b[0m\u001b[0;34m]\u001b[0m\u001b[0;34m)\u001b[0m\u001b[0;34m:\u001b[0m\u001b[0;34m\u001b[0m\u001b[0m\n\u001b[0;32m---> 29\u001b[0;31m                 \u001b[0;32mraise\u001b[0m \u001b[0mException\u001b[0m\u001b[0;34m(\u001b[0m\u001b[0;34m\"do not pass the gradient test on the iteration %s\"\u001b[0m \u001b[0;34m%\u001b[0m \u001b[0;34m(\u001b[0m\u001b[0mi\u001b[0m\u001b[0;34m)\u001b[0m\u001b[0;34m)\u001b[0m\u001b[0;34m\u001b[0m\u001b[0m\n\u001b[0m\u001b[1;32m     30\u001b[0m \u001b[0;31m#              print \"grad check failed at iteration %s\" % (i)\u001b[0m\u001b[0;34m\u001b[0m\u001b[0;34m\u001b[0m\u001b[0m\n\u001b[1;32m     31\u001b[0m         \u001b[0mloss_hist\u001b[0m\u001b[0;34m[\u001b[0m\u001b[0mi\u001b[0m\u001b[0;34m]\u001b[0m \u001b[0;34m=\u001b[0m \u001b[0mcompute_square_loss\u001b[0m\u001b[0;34m(\u001b[0m\u001b[0mX\u001b[0m\u001b[0;34m,\u001b[0m \u001b[0my\u001b[0m\u001b[0;34m,\u001b[0m \u001b[0mtheta_hist\u001b[0m\u001b[0;34m[\u001b[0m\u001b[0mi\u001b[0m\u001b[0;34m]\u001b[0m\u001b[0;34m)\u001b[0m\u001b[0;34m\u001b[0m\u001b[0m\n",
        "\u001b[0;31mException\u001b[0m: do not pass the gradient test on the iteration 52"
       ]
      }
     ],
     "prompt_number": 49
    },
    {
     "cell_type": "code",
     "collapsed": false,
     "input": [
      "print('loading the dataset')\n",
      "    \n",
      "df = pd.read_csv('hw1-data.csv', delimiter=',')\n",
      "X = df.values[:, :-1] \n",
      "y = df.values[:, -1]\n",
      "\n",
      "print('Split into Train and Test')\n",
      "X_train, X_test, y_train, y_test = train_test_split(X, y, test_size=100, random_state=10)\n",
      "\n",
      "X_train, X_test = feature_normalization(X_train, X_test)\n",
      "X_train = np.hstack((X_train, np.ones((X_train.shape[0], 1))))     #Add bias term\n",
      "X_test = np.hstack((X_test, np.ones((X_test.shape[0], 1))))        #Add bias term"
     ],
     "language": "python",
     "metadata": {},
     "outputs": [
      {
       "output_type": "stream",
       "stream": "stdout",
       "text": [
        "loading the dataset\n",
        "Split into Train and Test\n"
       ]
      }
     ],
     "prompt_number": 85
    },
    {
     "cell_type": "code",
     "collapsed": false,
     "input": [
      "theta_hist, loss_hist = batch_grad_descent_backtracking_line(X_train, y_train, alpha_init=0.5)\n",
      "plt.figure()\n",
      "# plt.plot(loss_hist)\n",
      "# theta_hist, loss_hist = batch_grad_descent(X_train, y_train, 0.05)\n",
      "plt.plot(loss_hist, color='red')\n",
      "plt.xlim((0, 1000))\n",
      "plt.show()"
     ],
     "language": "python",
     "metadata": {},
     "outputs": [
      {
       "metadata": {},
       "output_type": "display_data",
       "png": "[encoded data removed]",
       "text": [
        "<matplotlib.figure.Figure at 0x1152e0ad0>"
       ]
      }
     ],
     "prompt_number": 99
    },
    {
     "cell_type": "code",
     "collapsed": false,
     "input": [
      "# search for lambda\n",
      "\n",
      "La = [10**k for k in range(-3,-1)]\n",
      "La = [k*10**(-3) for k in range(1,20)]\n",
      "train_loss = []\n",
      "theta_list = []\n",
      "validation_loss = []\n",
      "for lam in La:\n",
      "    theta_hist,loss_hist,pos = regularized_grad_descent(X_train,y_train,alpha=0.1,lambda_reg=lam)\n",
      "    train_loss.append(compute_square_loss(X_train,y_train,theta_hist[pos])[0,0])\n",
      "    theta_list.append(theta_hist[pos])\n",
      "    validation_loss.append(compute_square_loss(X_test,y_test,theta_hist[pos])[0,0])\n",
      "La = np.array(La)\n",
      "train_loss = np.array(train_loss)\n",
      "theta_list = np.array(theta_list)\n",
      "validation_loss = np.array(validation_loss)\n",
      "\n",
      "x = np.log10(La)\n",
      "x = La*1e+3\n",
      "plt.plot(x,train_loss,'r',label='train_loss')\n",
      "plt.plot(x,validation_loss,'b',label = 'val_loss')\n",
      "plt.legend()\n",
      "plt.show()"
     ],
     "language": "python",
     "metadata": {},
     "outputs": [
      {
       "metadata": {},
       "output_type": "display_data",
       "png": "[encoded data removed]",
       "text": [
        "<matplotlib.figure.Figure at 0x11572f210>"
       ]
      }
     ],
     "prompt_number": 80
    },
    {
     "cell_type": "code",
     "collapsed": false,
     "input": [
      "print('loading the dataset')\n",
      "    \n",
      "df = pd.read_csv('hw1-data.csv', delimiter=',')\n",
      "X = df.values[:, :-1] \n",
      "y = df.values[:, -1]\n",
      "\n",
      "print('Split into Train and Test')\n",
      "X_train_o, X_test_o, y_train, y_test = train_test_split(X, y, test_size=100, random_state=10)\n",
      "X_train_o, X_test_o = feature_normalization(X_train_o, X_test_o)\n",
      "\n",
      "\n",
      "lam = 0.007\n",
      "B_list = [2**x for x in range(11)]\n",
      "train_loss = []\n",
      "theta_list = []\n",
      "validation_loss = []\n",
      "for B in B_list:\n",
      "    X_train = np.hstack((X_train_o, B*np.ones((X_train_o.shape[0], 1))))     #Add bias term\n",
      "    X_test = np.hstack((X_test_o, B*np.ones((X_test_o.shape[0], 1))))        #Add bias term\n",
      "    theta_hist,loss_hist,pos = regularized_grad_descent(X_train,y_train,alpha=0.1,lambda_reg=0.007)\n",
      "    train_loss.append(compute_square_loss(X_train,y_train,theta_hist[pos])[0,0])\n",
      "    theta_list.append(theta_hist[pos])\n",
      "    validation_loss.append(compute_square_loss(X_test,y_test,theta_hist[pos])[0,0])\n",
      "La = np.array(La)\n",
      "train_loss = np.array(train_loss)\n",
      "theta_list = np.array(theta_list)\n",
      "validation_loss = np.array(validation_loss)\n",
      "\n",
      "x = np.log2(B_list)\n",
      "plt.plot(x,train_loss,'r',label='train_loss')\n",
      "plt.plot(x,validation_loss,'b',label = 'val_loss')\n",
      "plt.legend()\n",
      "plt.show() "
     ],
     "language": "python",
     "metadata": {},
     "outputs": [
      {
       "output_type": "stream",
       "stream": "stdout",
       "text": [
        "loading the dataset\n",
        "Split into Train and Test\n"
       ]
      },
      {
       "metadata": {},
       "output_type": "display_data",
       "png": "[encoded data removed]",
       "text": [
        "<matplotlib.figure.Figure at 0x1152e3ad0>"
       ]
      }
     ],
     "prompt_number": 81
    },
    {
     "cell_type": "code",
     "collapsed": false,
     "input": [
      "validation_loss"
     ],
     "language": "python",
     "metadata": {},
     "outputs": [
      {
       "metadata": {},
       "output_type": "pyout",
       "prompt_number": 82,
       "text": [
        "array([  1.23846440e+000,   9.16035295e+178,               nan,\n",
        "                     nan,               nan,               nan,\n",
        "                     nan,               nan,               nan,\n",
        "                     nan,               nan])"
       ]
      }
     ],
     "prompt_number": 82
    },
    {
     "cell_type": "code",
     "collapsed": false,
     "input": [
      "La = [k*10**(-3) for k in range(1,100)]\n",
      "La"
     ],
     "language": "python",
     "metadata": {},
     "outputs": [
      {
       "metadata": {},
       "output_type": "pyout",
       "prompt_number": 74,
       "text": [
        "[0.001,\n",
        " 0.002,\n",
        " 0.003,\n",
        " 0.004,\n",
        " 0.005,\n",
        " 0.006,\n",
        " 0.007,\n",
        " 0.008,\n",
        " 0.009000000000000001,\n",
        " 0.01,\n",
        " 0.011,\n",
        " 0.012,\n",
        " 0.013000000000000001,\n",
        " 0.014,\n",
        " 0.015,\n",
        " 0.016,\n",
        " 0.017,\n",
        " 0.018000000000000002,\n",
        " 0.019,\n",
        " 0.02,\n",
        " 0.021,\n",
        " 0.022,\n",
        " 0.023,\n",
        " 0.024,\n",
        " 0.025,\n",
        " 0.026000000000000002,\n",
        " 0.027,\n",
        " 0.028,\n",
        " 0.029,\n",
        " 0.03,\n",
        " 0.031,\n",
        " 0.032,\n",
        " 0.033,\n",
        " 0.034,\n",
        " 0.035,\n",
        " 0.036000000000000004,\n",
        " 0.037,\n",
        " 0.038,\n",
        " 0.039,\n",
        " 0.04,\n",
        " 0.041,\n",
        " 0.042,\n",
        " 0.043000000000000003,\n",
        " 0.044,\n",
        " 0.045,\n",
        " 0.046,\n",
        " 0.047,\n",
        " 0.048,\n",
        " 0.049,\n",
        " 0.05,\n",
        " 0.051000000000000004,\n",
        " 0.052000000000000005,\n",
        " 0.053,\n",
        " 0.054,\n",
        " 0.055,\n",
        " 0.056,\n",
        " 0.057,\n",
        " 0.058,\n",
        " 0.059000000000000004,\n",
        " 0.06,\n",
        " 0.061,\n",
        " 0.062,\n",
        " 0.063,\n",
        " 0.064,\n",
        " 0.065,\n",
        " 0.066,\n",
        " 0.067,\n",
        " 0.068,\n",
        " 0.069,\n",
        " 0.07,\n",
        " 0.07100000000000001,\n",
        " 0.07200000000000001,\n",
        " 0.073,\n",
        " 0.074,\n",
        " 0.075,\n",
        " 0.076,\n",
        " 0.077,\n",
        " 0.078,\n",
        " 0.079,\n",
        " 0.08,\n",
        " 0.081,\n",
        " 0.082,\n",
        " 0.083,\n",
        " 0.084,\n",
        " 0.085,\n",
        " 0.08600000000000001,\n",
        " 0.08700000000000001,\n",
        " 0.088,\n",
        " 0.089,\n",
        " 0.09,\n",
        " 0.091,\n",
        " 0.092,\n",
        " 0.093,\n",
        " 0.094,\n",
        " 0.095,\n",
        " 0.096,\n",
        " 0.097,\n",
        " 0.098,\n",
        " 0.099]"
       ]
      }
     ],
     "prompt_number": 74
    },
    {
     "cell_type": "code",
     "collapsed": false,
     "input": [
      "def stochastic_grad_descent(X, y, alpha=0.1, lambda_reg=1, num_iter=1000):\n",
      "    \"\"\"\n",
      "    In this question you will implement stochastic gradient descent with a regularization term\n",
      "    \n",
      "    Args:\n",
      "        X - the feature vector, 2D numpy array of size (num_instances, num_features)\n",
      "        y - the label vector, 1D numpy array of size (num_instances)\n",
      "        alpha - string or float. step size in gradient descent\n",
      "                NOTE: In SGD, it's not always a good idea to use a fixed step size. Usually it's set to 1/sqrt(t) or 1/t\n",
      "                if alpha is a float, then the step size in every iteration is alpha.\n",
      "                if alpha == \"1/sqrt(t)\", alpha = 1/sqrt(t)\n",
      "                if alpha == \"1/t\", alpha = 1/t\n",
      "        lambda_reg - the regularization coefficient\n",
      "        num_iter - number of epochs (i.e number of times) to go through the whole training set\n",
      "    \n",
      "    Returns:\n",
      "        theta_hist - the history of parameter vector, 3D numpy array of size (num_iter, num_instances, num_features) \n",
      "        loss hist - the history of regularized loss function vector, 2D numpy array of size(num_iter, num_instances)\n",
      "    \"\"\"\n",
      "    num_instances, num_features = X.shape[0], X.shape[1]\n",
      "    theta = np.zeros(num_features) #Initialize theta\n",
      "    rand = np.arange(num_instances)\n",
      "    theta_hist = []\n",
      "    loss_hist = []\n",
      "    for i in range(num_iter):\n",
      "        theta_list = []\n",
      "        loss_list = []\n",
      "        np.random.shuffle(rand)\n",
      "        for j in range(num_instances):\n",
      "            x = X[rand[j]]\n",
      "            yy = y[rand[j]]\n",
      "            theta = theta - alpha * sgd_loss_gradient(x,yy,theta,lambda_reg)\n",
      "            theta_list.append(theta)\n",
      "            loss = sgd_loss(x,yy,theta)\n",
      "            loss_list.append(loss)\n",
      "        theta_hist.append(theta_list)\n",
      "        loss_hist.append(loss_list)\n",
      "        if i>0: \n",
      "            distance = np.linalg.norm(np.array(loss_hist[i])-np.array(loss_hist[i-1]))\n",
      "        else:\n",
      "            distance = 1  \n",
      "        if distance< 0.1:\n",
      "            break\n",
      "    theta_hist = np.array(theta_hist)\n",
      "    print theta_hist.shape\n",
      "    loss_hist = np.array(loss_hist)\n",
      "    print loss_hist.shape\n",
      "    return theta_hist, loss_hist\n",
      "    \n",
      "#     theta_hist = np.zeros((num_iter, num_instances, num_features))  #Initialize theta_hist\n",
      "#     loss_hist = np.zeros((num_iter, num_instances)) #Initialize loss_hist\n",
      "    "
     ],
     "language": "python",
     "metadata": {},
     "outputs": [],
     "prompt_number": 156
    },
    {
     "cell_type": "code",
     "collapsed": false,
     "input": [
      "def sgd_loss(x,y,theta):\n",
      "    \"\"\"\n",
      "    input :\n",
      "        x - 1 X num of features array\n",
      "        y - scalar\n",
      "        theta - num of features X 1 array\n",
      "    \n",
      "    return:\n",
      "        loss - scalar\n",
      "    \"\"\"\n",
      "    \n",
      "    loss = (x.dot(theta)-y)**2\n",
      "    return loss\n",
      "    \n",
      "    "
     ],
     "language": "python",
     "metadata": {},
     "outputs": [],
     "prompt_number": 142
    },
    {
     "cell_type": "code",
     "collapsed": false,
     "input": [
      "def sgd_loss_gradient(x,y,theta,lambda_reg):\n",
      "    \"\"\"\n",
      "    input :\n",
      "\n",
      "        x - 1 X num of features array\n",
      "        y - scalar\n",
      "        theta - num of features X 1 array\n",
      "        lambda - regularing parameter\n",
      "    \n",
      "    return :\n",
      "        grad - 1 X num of features array\n",
      "    \"\"\"\n",
      "    \n",
      "    grad =2 * (x.dot(theta)-y)*x - lambda_reg*theta\n",
      "    return grad"
     ],
     "language": "python",
     "metadata": {},
     "outputs": [],
     "prompt_number": 143
    },
    {
     "cell_type": "code",
     "collapsed": false,
     "input": [
      "print('loading the dataset')\n",
      "    \n",
      "df = pd.read_csv('hw1-data.csv', delimiter=',')\n",
      "X = df.values[:, :-1] \n",
      "y = df.values[:, -1]\n",
      "\n",
      "print('Split into Train and Test')\n",
      "X_train_o, X_test_o, y_train, y_test = train_test_split(X, y, test_size=100, random_state=10)\n",
      "X_train_o, X_test_o = feature_normalization(X_train_o, X_test_o)"
     ],
     "language": "python",
     "metadata": {},
     "outputs": [
      {
       "output_type": "stream",
       "stream": "stdout",
       "text": [
        "loading the dataset\n",
        "Split into Train and Test\n"
       ]
      }
     ],
     "prompt_number": 167
    },
    {
     "cell_type": "code",
     "collapsed": false,
     "input": [
      "X_train, X_test = feature_normalization(X_train_o, X_test_o)\n",
      "X_train = np.hstack((X_trai_o, np.ones((X_train.shape[0], 1))))     #Add bias term\n",
      "X_test = np.hstack((X_test_o, np.ones((X_test.shape[0], 1))))        #Add bias term\n",
      "lam = 0.007\n",
      "theta_hist,loss_hist = stochastic_grad_descent(X_train,y_train,lambda_reg=lam)"
     ],
     "language": "python",
     "metadata": {},
     "outputs": [
      {
       "output_type": "stream",
       "stream": "stdout",
       "text": [
        "(1000, 100, 59)\n",
        "(1000, 100)\n"
       ]
      }
     ],
     "prompt_number": 158
    },
    {
     "cell_type": "code",
     "collapsed": false,
     "input": [
      "plt.plot(loss_hist[:,-1])\n",
      "plt.show()"
     ],
     "language": "python",
     "metadata": {},
     "outputs": [
      {
       "metadata": {},
       "output_type": "display_data",
       "png": "[encoded data removed]",
       "text": [
        "<matplotlib.figure.Figure at 0x115714990>"
       ]
      }
     ],
     "prompt_number": 159
    },
    {
     "cell_type": "code",
     "collapsed": false,
     "input": [
      "loss_hist[:,-1]"
     ],
     "language": "python",
     "metadata": {},
     "outputs": [
      {
       "metadata": {},
       "output_type": "pyout",
       "prompt_number": 140,
       "text": [
        "(1000,)"
       ]
      }
     ],
     "prompt_number": 140
    },
    {
     "cell_type": "code",
     "collapsed": false,
     "input": [
      "loss_hist"
     ],
     "language": "python",
     "metadata": {},
     "outputs": [
      {
       "metadata": {},
       "output_type": "pyout",
       "prompt_number": 160,
       "text": [
        "array([[ nan,  nan,  nan, ...,  nan,  nan,  nan],\n",
        "       [ nan,  nan,  nan, ...,  nan,  nan,  nan],\n",
        "       [ nan,  nan,  nan, ...,  nan,  nan,  nan],\n",
        "       ..., \n",
        "       [ nan,  nan,  nan, ...,  nan,  nan,  nan],\n",
        "       [ nan,  nan,  nan, ...,  nan,  nan,  nan],\n",
        "       [ nan,  nan,  nan, ...,  nan,  nan,  nan]])"
       ]
      }
     ],
     "prompt_number": 160
    },
    {
     "cell_type": "code",
     "collapsed": false,
     "input": [],
     "language": "python",
     "metadata": {},
     "outputs": [
      {
       "metadata": {},
       "output_type": "pyout",
       "prompt_number": 162,
       "text": [
        "array([[  1.,   1.,   1., ...,  nan,  nan,   1.],\n",
        "       [  1.,   1.,   1., ...,  nan,  nan,   1.],\n",
        "       [  1.,   1.,   1., ...,  nan,  nan,   1.],\n",
        "       ..., \n",
        "       [  1.,   0.,   0., ...,  nan,  nan,   1.],\n",
        "       [  1.,   1.,   1., ...,  nan,  nan,   1.],\n",
        "       [  0.,   0.,   0., ...,  nan,  nan,   1.]])"
       ]
      }
     ],
     "prompt_number": 162
    },
    {
     "cell_type": "code",
     "collapsed": false,
     "input": [
      "X_train, X_test = feature_normalization(X_train_o, X_test_o)\n",
      "X_train = np.hstack((X_train_o, np.ones((X_train.shape[0], 1))))     #Add bias term\n",
      "X_test = np.hstack((X_test_o, np.ones((X_test.shape[0], 1))))        #Add bias term"
     ],
     "language": "python",
     "metadata": {},
     "outputs": [],
     "prompt_number": 169
    },
    {
     "cell_type": "code",
     "collapsed": false,
     "input": [
      "X_train.shape"
     ],
     "language": "python",
     "metadata": {},
     "outputs": [
      {
       "metadata": {},
       "output_type": "pyout",
       "prompt_number": 171,
       "text": [
        "(100, 49)"
       ]
      }
     ],
     "prompt_number": 171
    },
    {
     "cell_type": "code",
     "collapsed": false,
     "input": [
      "theta = np.ones(49)\n",
      "grad_checker(X_train,y_train,theta)"
     ],
     "language": "python",
     "metadata": {},
     "outputs": [
      {
       "output_type": "stream",
       "stream": "stdout",
       "text": [
        "[[ 26.07013205  25.58326502  25.05054258  24.74081471  24.24546864\n",
        "   23.79891226  22.90863314  22.90863314  21.90026135  20.0569049\n",
        "   18.36416632  17.3017451   14.5002761   12.45800123   8.21040281\n",
        "    7.34556074   5.24340575   0.90770525  23.14742097  23.14742097\n",
        "   23.14742097  21.48832491  21.48832491  21.48832491  19.8972414\n",
        "   19.8972414   19.8972414   19.15895467  19.15895467  19.15895467\n",
        "   18.74898619  18.74898619  18.74898619  11.85229611  11.85229611\n",
        "   11.85229611  14.39885467  14.39885467  14.39885467  15.83930209\n",
        "   15.83930209  15.83930209  16.49353617  16.49353617  16.49353617\n",
        "   16.85255853  16.85255853  16.85255853  26.23768143]]\n",
        "[[ 26.07013205  25.58326502  25.05054258  24.74081471  24.24546864\n",
        "   23.79891226  22.90863314  22.90863314  21.90026135  20.0569049\n",
        "   18.36416632  17.3017451   14.5002761   12.45800123   8.21040281\n",
        "    7.34556074   5.24340575   0.90770525  23.14742097  23.14742097\n",
        "   23.14742097  21.48832491  21.48832491  21.48832491  19.8972414\n",
        "   19.8972414   19.8972414   19.15895467  19.15895467  19.15895467\n",
        "   18.74898619  18.74898619  18.74898619  11.85229611  11.85229611\n",
        "   11.85229611  14.39885467  14.39885467  14.39885467  15.83930209\n",
        "   15.83930209  15.83930209  16.49353617  16.49353617  16.49353617\n",
        "   16.85255853  16.85255853  16.85255853  26.23768143]]\n"
       ]
      },
      {
       "metadata": {},
       "output_type": "pyout",
       "prompt_number": 175,
       "text": [
        "array([[ True]], dtype=bool)"
       ]
      }
     ],
     "prompt_number": 175
    },
    {
     "cell_type": "code",
     "collapsed": false,
     "input": [],
     "language": "python",
     "metadata": {},
     "outputs": []
    }
   ],
   "metadata": {}
  }
 ]
}